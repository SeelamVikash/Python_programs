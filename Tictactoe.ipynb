{
 "cells": [
  {
   "cell_type": "code",
   "execution_count": 8,
   "metadata": {},
   "outputs": [],
   "source": [
    "def user_info():\n",
    "    '''\n",
    "    used to get the details about user\n",
    "    u1 -player 1 string\n",
    "    u2- player 2 string\n",
    "    c - marker for player randomly assigned\n",
    "    '''\n",
    "    from IPython.display import clear_output\n",
    "    import random\n",
    "    u1=input(\"Hello player 1 enter your name \")\n",
    "    u2=input(\"Hello player 2 enter your name \")\n",
    "    clear_output()\n",
    "    m=[\"X\",\"O\"]\n",
    "    random.shuffle(m) #markers\n",
    "    c = {u1:m[0],u2:m[1]}\n",
    "    clear_output()\n",
    "    print(\"{} you are {} \\n{} you are {}\".format(u1,c[u1],u2,c[u2]))\n",
    "    input(\"Press Enter to continue\")\n",
    "    clear_output()\n",
    "    return [u1,u2,c]"
   ]
  },
  {
   "cell_type": "code",
   "execution_count": 2,
   "metadata": {},
   "outputs": [],
   "source": [
    "def board(p,f,a,c,u1,u2):\n",
    "    '''\n",
    "    used to create a board,u1 -player 1 string,u2- player 2 string,c -dictionary marker for player randomly assigned\n",
    "    p - selected option marker,f-key for user dictionary c\n",
    "    '''\n",
    "    a[p]=c[f] # placing the marker on the board\n",
    "    print(f\"{a[0]}|{a[1]}|{a[2]}\\n-----\\n{a[3]}|{a[4]}|{a[5]}\\n-----\\n{a[6]}|{a[7]}|{a[8]}\")\n",
    "    return [a,f]"
   ]
  },
  {
   "cell_type": "code",
   "execution_count": 3,
   "metadata": {},
   "outputs": [],
   "source": [
    "def win_check(a,f,turn,u1,u2):\n",
    "    '''\n",
    "    used to check the player's win\n",
    "    '''\n",
    "    if (a[0]==a[1]==a[2]) or (a[3]==a[4]==a[5]) or (a[6]==a[7]==a[8]) or (a[0]==a[3]==a[6]) or (a[1]==a[4]==a[7]) or (a[2]==a[5]==a[8]) or (a[0]==a[4]==a[8]) or (a[2]==a[4]==a[6]):\n",
    "        print(\"{} have won the match\".format(f))\n",
    "        return [False,f]\n",
    "    elif turn==8:\n",
    "        print(\"The game is a draw\")\n",
    "        return [False,f]\n",
    "    else:\n",
    "        if f==u1:\n",
    "            f=u2\n",
    "        else:\n",
    "            f=u1\n",
    "        return [True,f]"
   ]
  },
  {
   "cell_type": "code",
   "execution_count": 1,
   "metadata": {},
   "outputs": [],
   "source": [
    "def entry(f,c,a,u1,u2):\n",
    "    '''\n",
    "    used to select the number \n",
    "    f - randomly selected user\n",
    "    c - dictionary with keys as player name and marker as values\n",
    "    a - position list of board\n",
    "    '''\n",
    "    from IPython.display import clear_output\n",
    "    u=(input(\"{} place your marker {} on board or (press p to stop the game): \".format(f,c[f])))\n",
    "    if u.lower()=='p':\n",
    "        u='10'\n",
    "    while (u not in a):\n",
    "        u=(input(\"{} please enter {} in proper position or (press p to stop the game): \".format(f,c[f])))\n",
    "    return int(u)"
   ]
  },
  {
   "cell_type": "code",
   "execution_count": 5,
   "metadata": {},
   "outputs": [],
   "source": [
    "def replay():\n",
    "    from IPython.display import clear_output\n",
    "    while True:\n",
    "        r = input(\"Do you want to play again Type Y for yes or N for no\").lower()\n",
    "        if r not in (\"y\",\"n\"):\n",
    "            clear_output()\n",
    "            continue\n",
    "        else:\n",
    "            return False   "
   ]
  },
  {
   "cell_type": "code",
   "execution_count": 11,
   "metadata": {},
   "outputs": [],
   "source": [
    "def Game():\n",
    "    play=True\n",
    "    while play:\n",
    "        from IPython.display import clear_output\n",
    "        import time\n",
    "        import random\n",
    "        print(\"Lets play TIC_TAC_TOE\")\n",
    "        time.sleep(1)\n",
    "        input(\"Press Enter to continue\")\n",
    "        clear_output()\n",
    "        [u1,u2,c]=user_info()\n",
    "        a=['1','2','3','4','5','6','7','8','9','10']\n",
    "        turn=1\n",
    "        store=[]\n",
    "        stop = True\n",
    "        pause= True\n",
    "        f = random.choice([u1,u2])\n",
    "        print(\"\\n{} you are {}\\n{} you are {}\\n\\n\".format(u1,c[u1],u2,c[u2]))\n",
    "        print(f\"{a[0]}|{a[1]}|{a[2]}\\n-----\\n{a[3]}|{a[4]}|{a[5]}\\n-----\\n{a[6]}|{a[7]}|{a[8]}\")\n",
    "        p = entry(f,c,a,u1,u2)\n",
    "        if p ==10:\n",
    "            break\n",
    "        while turn<=8:\n",
    "            clear_output()\n",
    "            print(\"{} you are {}\\n{} you are {}\\n\".format(u1,c[u1],u2,c[u2]))\n",
    "            [a,f]=board(p-1,f,a,c,u1,u2)\n",
    "            turn+=1\n",
    "            #stop = pause(pau)\n",
    "            [stop,f] = win_check(a,f,turn,u1,u2)\n",
    "            if stop == False:\n",
    "                break\n",
    "            p= entry(f,c,a,u1,u2)\n",
    "            if p==10:\n",
    "                break\n",
    "        play = replay()"
   ]
  },
  {
   "cell_type": "code",
   "execution_count": 12,
   "metadata": {},
   "outputs": [
    {
     "name": "stdout",
     "output_type": "stream",
     "text": [
      "v you are X\n",
      "s you are O\n",
      "\n",
      "O|X|O\n",
      "-----\n",
      "X|O|X\n",
      "-----\n",
      "O|8|9\n",
      "s have won the match\n",
      "Do you want to play again Type Y for yes or N for non\n"
     ]
    }
   ],
   "source": [
    "Game()"
   ]
  },
  {
   "cell_type": "code",
   "execution_count": null,
   "metadata": {},
   "outputs": [],
   "source": []
  }
 ],
 "metadata": {
  "kernelspec": {
   "display_name": "Python 3",
   "language": "python",
   "name": "python3"
  },
  "language_info": {
   "codemirror_mode": {
    "name": "ipython",
    "version": 3
   },
   "file_extension": ".py",
   "mimetype": "text/x-python",
   "name": "python",
   "nbconvert_exporter": "python",
   "pygments_lexer": "ipython3",
   "version": "3.7.6"
  }
 },
 "nbformat": 4,
 "nbformat_minor": 2
}
